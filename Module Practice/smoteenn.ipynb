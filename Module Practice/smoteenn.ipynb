{
 "metadata": {
  "language_info": {
   "codemirror_mode": {
    "name": "ipython",
    "version": 3
   },
   "file_extension": ".py",
   "mimetype": "text/x-python",
   "name": "python",
   "nbconvert_exporter": "python",
   "pygments_lexer": "ipython3",
   "version": "3.7.9-final"
  },
  "orig_nbformat": 2,
  "kernelspec": {
   "name": "mlenv",
   "display_name": "mlenv",
   "language": "python"
  }
 },
 "nbformat": 4,
 "nbformat_minor": 2,
 "cells": [
  {
   "cell_type": "code",
   "execution_count": 1,
   "metadata": {},
   "outputs": [
    {
     "output_type": "execute_result",
     "data": {
      "text/plain": [
       "   ID  ln_balance_limit  sex  education  marriage  age  default_next_month\n",
       "0   1          9.903488    1          2         0   24                   1\n",
       "1   2         11.695247    1          2         1   26                   1\n",
       "2   3         11.407565    1          2         1   34                   0\n",
       "3   4         10.819778    1          2         0   37                   0\n",
       "4   5         10.819778    0          2         0   57                   0"
      ],
      "text/html": "<div>\n<style scoped>\n    .dataframe tbody tr th:only-of-type {\n        vertical-align: middle;\n    }\n\n    .dataframe tbody tr th {\n        vertical-align: top;\n    }\n\n    .dataframe thead th {\n        text-align: right;\n    }\n</style>\n<table border=\"1\" class=\"dataframe\">\n  <thead>\n    <tr style=\"text-align: right;\">\n      <th></th>\n      <th>ID</th>\n      <th>ln_balance_limit</th>\n      <th>sex</th>\n      <th>education</th>\n      <th>marriage</th>\n      <th>age</th>\n      <th>default_next_month</th>\n    </tr>\n  </thead>\n  <tbody>\n    <tr>\n      <th>0</th>\n      <td>1</td>\n      <td>9.903488</td>\n      <td>1</td>\n      <td>2</td>\n      <td>0</td>\n      <td>24</td>\n      <td>1</td>\n    </tr>\n    <tr>\n      <th>1</th>\n      <td>2</td>\n      <td>11.695247</td>\n      <td>1</td>\n      <td>2</td>\n      <td>1</td>\n      <td>26</td>\n      <td>1</td>\n    </tr>\n    <tr>\n      <th>2</th>\n      <td>3</td>\n      <td>11.407565</td>\n      <td>1</td>\n      <td>2</td>\n      <td>1</td>\n      <td>34</td>\n      <td>0</td>\n    </tr>\n    <tr>\n      <th>3</th>\n      <td>4</td>\n      <td>10.819778</td>\n      <td>1</td>\n      <td>2</td>\n      <td>0</td>\n      <td>37</td>\n      <td>0</td>\n    </tr>\n    <tr>\n      <th>4</th>\n      <td>5</td>\n      <td>10.819778</td>\n      <td>0</td>\n      <td>2</td>\n      <td>0</td>\n      <td>57</td>\n      <td>0</td>\n    </tr>\n  </tbody>\n</table>\n</div>"
     },
     "metadata": {},
     "execution_count": 1
    }
   ],
   "source": [
    "# Import dependencies\n",
    "import pandas as pd \n",
    "from collections import Counter\n",
    "\n",
    "data = 'cc_default.csv'\n",
    "df = pd.read_csv(data)\n",
    "df.head()"
   ]
  },
  {
   "cell_type": "code",
   "execution_count": 2,
   "metadata": {},
   "outputs": [],
   "source": [
    "# Filter to create features and target data sets\n",
    "X = df.drop(columns=['ID', 'default_next_month'])\n",
    "y = df['default_next_month']"
   ]
  },
  {
   "cell_type": "code",
   "execution_count": 3,
   "metadata": {},
   "outputs": [],
   "source": [
    "# Split into training and testing datasets\n",
    "from sklearn.model_selection import train_test_split\n",
    "X_train, X_test, y_train, y_test = train_test_split(X, y, random_state=1)"
   ]
  },
  {
   "cell_type": "code",
   "execution_count": 4,
   "metadata": {},
   "outputs": [],
   "source": [
    "# import SMOTEENN module, which combines the oversampling method SMOTE and the undersamping method of Editing Nearest Neighbors(ENN)\n",
    "from imblearn.combine import SMOTEENN\n",
    "smote_enn = SMOTEENN(random_state=0)\n",
    "X_resampled, y_resampled = smote_enn.fit_resample(X,y)"
   ]
  },
  {
   "cell_type": "code",
   "execution_count": 5,
   "metadata": {},
   "outputs": [
    {
     "output_type": "execute_result",
     "data": {
      "text/plain": [
       "LogisticRegression(random_state=1)"
      ]
     },
     "metadata": {},
     "execution_count": 5
    }
   ],
   "source": [
    "# Again use logistic regression to generate predictions\n",
    "from sklearn.linear_model import LogisticRegression\n",
    "model = LogisticRegression(solver='lbfgs',random_state=1)\n",
    "model.fit(X_resampled, y_resampled)"
   ]
  },
  {
   "cell_type": "code",
   "execution_count": 7,
   "metadata": {},
   "outputs": [
    {
     "output_type": "execute_result",
     "data": {
      "text/plain": [
       "array([[4172, 1660],\n",
       "       [ 882,  786]], dtype=int64)"
      ]
     },
     "metadata": {},
     "execution_count": 7
    }
   ],
   "source": [
    "# Generate confusion matrix, accuracy score, and classification report\n",
    "from sklearn.metrics import confusion_matrix\n",
    "from sklearn.metrics import balanced_accuracy_score\n",
    "from imblearn.metrics import classification_report_imbalanced\n",
    "y_pred = model.predict(X_test)\n",
    "confusion_matrix(y_test, y_pred)"
   ]
  },
  {
   "cell_type": "code",
   "execution_count": 8,
   "metadata": {},
   "outputs": [
    {
     "output_type": "execute_result",
     "data": {
      "text/plain": [
       "0.5932932666212709"
      ]
     },
     "metadata": {},
     "execution_count": 8
    }
   ],
   "source": [
    "balanced_accuracy_score(y_test, y_pred)"
   ]
  },
  {
   "cell_type": "code",
   "execution_count": 9,
   "metadata": {},
   "outputs": [
    {
     "output_type": "stream",
     "name": "stdout",
     "text": [
      "                   pre       rec       spe        f1       geo       iba       sup\n\n          0       0.83      0.72      0.47      0.77      0.58      0.35      5832\n          1       0.32      0.47      0.72      0.38      0.58      0.33      1668\n\navg / total       0.71      0.66      0.53      0.68      0.58      0.34      7500\n\n"
     ]
    }
   ],
   "source": [
    "print(classification_report_imbalanced(y_test, y_pred))"
   ]
  }
 ]
}